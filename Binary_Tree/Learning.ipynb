{
 "cells": [
  {
   "cell_type": "markdown",
   "metadata": {},
   "source": [
    "# Tree Structure"
   ]
  },
  {
   "cell_type": "markdown",
   "metadata": {},
   "source": [
    "## Binary Tree\n",
    "#### 定义\n",
    "在计算机科学中，二叉树是每个结点最多有两个子树的树结构；子树被称作“左子树”（left subtree）和“右子树”（right subtree）；\n",
    "#### 术语\n",
    "树的结点（node）：包含一个数据元素及若干指向子树的分支；\n",
    "结点层：根结点的层定义为1；根的孩子为第二层结点，依此类推；\n",
    "树的深度：树中最大的结点层；\n",
    "\n",
    "结点的度：结点子树的个数；\n",
    "树的度：树中最大的结点度；\n",
    "\n",
    "叶子结点：也叫终端结点，是度为 0 的结点；\n"
   ]
  },
  {
   "cell_type": "markdown",
   "metadata": {},
   "source": [
    "## 二叉树最大深度\n",
    "#### 给定一个二叉树，找出其最大深度。二叉树的深度为根节点到最远叶子节点的最长路径上的节点数\n",
    "基本概念掌握：每个节点的深度与它左右子树的深度有关，且等于其左右子树最大深度值加上 1。即：\n",
    "\n",
    "maxDepth(root) = max(maxDepth(root.left),maxDepth(root.right)) + 1"
   ]
  },
  {
   "cell_type": "code",
   "execution_count": 2,
   "metadata": {},
   "outputs": [],
   "source": [
    "import numpy as np\n",
    "from typing import List\n",
    "def root():\n",
    "    \n",
    "\n",
    "def max_depth()\n",
    "\n",
    "def get_depth( binary_tree: List[int]) -> int:\n",
    "    pass "
   ]
  },
  {
   "cell_type": "markdown",
   "metadata": {},
   "source": [
    "## 二叉树遍历\n",
    "DFS BFS\n",
    "## 二叉搜索树\n",
    "或者是一棵空树，或者是具有下列性质的二叉树：若它的左子树不空，则左子树上所有结点的值均小于它的根结点的值；若它的右子树不空，则右子树上所有结点的值均大于它的根结点的值；它的左、右子树也分别为二叉搜索树。\n",
    "## 平衡二叉树\n",
    "一个二叉树每个节点 的左右两个子树的高度差的绝对值不超过1。"
   ]
  }
 ],
 "metadata": {
  "kernelspec": {
   "display_name": ".venv",
   "language": "python",
   "name": "python3"
  },
  "language_info": {
   "codemirror_mode": {
    "name": "ipython",
    "version": 3
   },
   "file_extension": ".py",
   "mimetype": "text/x-python",
   "name": "python",
   "nbconvert_exporter": "python",
   "pygments_lexer": "ipython3",
   "version": "3.8.10"
  }
 },
 "nbformat": 4,
 "nbformat_minor": 2
}
