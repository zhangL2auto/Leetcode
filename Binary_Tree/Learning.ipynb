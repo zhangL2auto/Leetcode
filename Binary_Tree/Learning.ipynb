{
 "cells": [
  {
   "cell_type": "markdown",
   "metadata": {},
   "source": [
    "# Tree Structure"
   ]
  },
  {
   "cell_type": "markdown",
   "metadata": {},
   "source": [
    "## Binary Tree\n",
    "#### 定义\n",
    "在计算机科学中，二叉树是每个结点最多有两个子树的树结构；子树被称作“左子树”（left subtree）和“右子树”（right subtree）；\n",
    "\n",
    "\n"
   ]
  }
 ],
 "metadata": {
  "language_info": {
   "name": "python"
  }
 },
 "nbformat": 4,
 "nbformat_minor": 2
}
